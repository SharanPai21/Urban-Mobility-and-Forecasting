{
 "cells": [
  {
   "cell_type": "code",
   "execution_count": null,
   "id": "cde31d84",
   "metadata": {},
   "outputs": [],
   "source": [
    "import pandas as pd\n",
    "import matplotlib.pyplot as plt\n",
    "%matplotlib inline\n",
    "import seaborn as sns\n",
    "import numpy as np\n",
    "import geopandas as gpd"
   ]
  },
  {
   "cell_type": "code",
   "execution_count": null,
   "id": "1d400d47",
   "metadata": {},
   "outputs": [],
   "source": [
    "#importing all 4 datasets\n",
    "\n",
    "taxi_df = pd.read_csv(\"Data\\\\yellow_tripdata_2023-01.csv\", parse_dates=['tpep_pickup_datetime', 'tpep_dropoff_datetime'])\n",
    "holiday_df = pd.read_excel(\"Data\\\\us_holidays_2023.xlsx\", parse_dates=[0], names=['date', 'day_of_week', 'holiday_name', 'holiday_type'])\n",
    "weather_df = pd.read_csv(\"Data\\\\newyork 2023-01-01 to 2023-01-31.csv\", parse_dates=['datetime'])\n",
    "\n",
    "gdf = gpd.read_file(\"Data\\\\NYC Taxi Zones.geojson\")\n",
    "taxi_zone = gdf.explode(index_parts=False).reset_index(drop=True)"
   ]
  },
  {
   "cell_type": "code",
   "execution_count": null,
   "id": "79b83b60",
   "metadata": {},
   "outputs": [],
   "source": [
    "taxi_df.shape"
   ]
  },
  {
   "cell_type": "code",
   "execution_count": null,
   "id": "9da8e74d",
   "metadata": {},
   "outputs": [],
   "source": [
    "taxi_df.head()"
   ]
  },
  {
   "cell_type": "code",
   "execution_count": null,
   "id": "128c1c45",
   "metadata": {},
   "outputs": [],
   "source": [
    "print(\"taxi_df\")\n",
    "print(taxi_df.columns)\n",
    "print(\"holiday_df\")\n",
    "print(holiday_df.columns)\n",
    "print(\"weather_df\")\n",
    "print(weather_df.columns)\n",
    "print(\"taxi_zone\")\n",
    "print(taxi_zone.columns)"
   ]
  },
  {
   "cell_type": "code",
   "execution_count": null,
   "id": "9109fb42",
   "metadata": {},
   "outputs": [],
   "source": [
    "#data cleaning\n",
    "\n",
    "taxi_df['tpep_pickup_datetime'] = pd.to_datetime(taxi_df['tpep_pickup_datetime'])\n",
    "\n",
    "taxi_df = taxi_df[\n",
    "    (taxi_df['trip_distance'] > 0) &\n",
    "    (taxi_df['PULocationID'].notnull()) &\n",
    "    (taxi_df['DOLocationID'].notnull()) &\n",
    "    (taxi_df['tpep_pickup_datetime'].dt.year == 2023) &\n",
    "    (taxi_df['tpep_pickup_datetime'].dt.month == 1)\n",
    "]\n"
   ]
  },
  {
   "cell_type": "code",
   "execution_count": null,
   "id": "05dc292c",
   "metadata": {},
   "outputs": [],
   "source": [
    "taxi_df.head()"
   ]
  },
  {
   "cell_type": "code",
   "execution_count": null,
   "id": "f6e1d422",
   "metadata": {},
   "outputs": [],
   "source": [
    "holiday_df.head()"
   ]
  },
  {
   "cell_type": "code",
   "execution_count": null,
   "id": "98e6ae0c",
   "metadata": {},
   "outputs": [],
   "source": [
    "holiday_df['date'] = pd.to_datetime(holiday_df['date']).apply(lambda x: x.replace(year=2023))"
   ]
  },
  {
   "cell_type": "code",
   "execution_count": null,
   "id": "f912a6ce",
   "metadata": {},
   "outputs": [],
   "source": [
    "weather_df.head(5)"
   ]
  },
  {
   "cell_type": "code",
   "execution_count": null,
   "id": "c9d86fe5",
   "metadata": {},
   "outputs": [],
   "source": [
    "taxi_zone.head(5)"
   ]
  },
  {
   "cell_type": "code",
   "execution_count": null,
   "id": "e203df8b",
   "metadata": {},
   "outputs": [],
   "source": [
    "#handling null values\n",
    "\n",
    "taxi_df['passenger_count'].fillna(taxi_df['passenger_count'].mode()[0],inplace=True)\n",
    "taxi_df['RatecodeID'].fillna(taxi_df['RatecodeID'].mode()[0],inplace=True)\n",
    "taxi_df['store_and_fwd_flag'].fillna('N',inplace=True)\n",
    "taxi_df['congestion_surcharge'].fillna(0, inplace=True)\n",
    "taxi_df['airport_fee'].fillna(0, inplace=True)\n",
    "taxi_df.isna().sum()"
   ]
  },
  {
   "cell_type": "code",
   "execution_count": null,
   "id": "fd83812c",
   "metadata": {},
   "outputs": [],
   "source": [
    "#selecting necessary features and Feature Engineering\n",
    "\n",
    "taxi_df = taxi_df[[\n",
    "    'tpep_pickup_datetime', 'PULocationID', 'trip_distance'\n",
    "]]\n",
    "taxi_df = taxi_df.dropna()\n",
    "taxi_df['pickup_hour'] = taxi_df['tpep_pickup_datetime'].dt.hour\n",
    "taxi_df['pickup_date'] = taxi_df['tpep_pickup_datetime'].dt.date\n"
   ]
  },
  {
   "cell_type": "code",
   "execution_count": null,
   "id": "cb9d6dab",
   "metadata": {},
   "outputs": [],
   "source": [
    "holiday_df['date'] = pd.to_datetime(holiday_df['date'])"
   ]
  },
  {
   "cell_type": "code",
   "execution_count": null,
   "id": "3acf3de2",
   "metadata": {},
   "outputs": [],
   "source": [
    "weather_df = weather_df[[\n",
    "    'datetime', 'temp', 'humidity', 'precip', 'windgust', 'windspeed', 'visibility', 'conditions'\n",
    "]]\n",
    "weather_df['hour'] = weather_df['datetime'].dt.hour\n",
    "weather_df['date'] = weather_df['datetime'].dt.date"
   ]
  },
  {
   "cell_type": "code",
   "execution_count": null,
   "id": "fc510cba",
   "metadata": {},
   "outputs": [],
   "source": [
    "holiday_df.isna().sum()"
   ]
  },
  {
   "cell_type": "code",
   "execution_count": null,
   "id": "ee2ab88a",
   "metadata": {},
   "outputs": [],
   "source": [
    "taxi_zone = taxi_zone.rename(columns={'location_id': 'PULocationID'})  # For merge\n",
    "taxi_zone = taxi_zone[['PULocationID', 'zone', 'borough', 'geometry']]\n"
   ]
  },
  {
   "cell_type": "code",
   "execution_count": null,
   "id": "3a14a9ca",
   "metadata": {},
   "outputs": [],
   "source": [
    "df_demand = taxi_df.groupby(['pickup_date', 'pickup_hour', 'PULocationID']).agg(\n",
    "    num_trips=('PULocationID', 'count'),\n",
    "    avg_trip_distance=('trip_distance', 'mean')\n",
    ").reset_index()"
   ]
  },
  {
   "cell_type": "code",
   "execution_count": null,
   "id": "5dde55db",
   "metadata": {},
   "outputs": [],
   "source": [
    "weather_df.isna().sum()"
   ]
  },
  {
   "cell_type": "code",
   "execution_count": null,
   "id": "4ade7490",
   "metadata": {},
   "outputs": [],
   "source": [
    "df_demand['pickup_date'] = pd.to_datetime(df_demand['pickup_date'])\n",
    "df_demand['pickup_date'].info()"
   ]
  },
  {
   "cell_type": "code",
   "execution_count": null,
   "id": "0aca6058",
   "metadata": {},
   "outputs": [],
   "source": [
    "weather_df['datetime'].info()"
   ]
  },
  {
   "cell_type": "code",
   "execution_count": null,
   "id": "11eebead",
   "metadata": {},
   "outputs": [],
   "source": [
    "df_demand.head(5)"
   ]
  },
  {
   "cell_type": "code",
   "execution_count": null,
   "id": "9ba570f7",
   "metadata": {},
   "outputs": [],
   "source": [
    "weather_df.head(5)"
   ]
  },
  {
   "cell_type": "code",
   "execution_count": null,
   "id": "1bc33c10",
   "metadata": {},
   "outputs": [],
   "source": [
    "#merge with weather\n",
    "df_merged = df_demand.merge(weather_df, how='left', left_on = 'pickup_date',right_on = 'datetime')"
   ]
  },
  {
   "cell_type": "code",
   "execution_count": null,
   "id": "bf9e1b56",
   "metadata": {},
   "outputs": [],
   "source": [
    "df_merged.drop(columns=['date', 'datetime', 'hour'], inplace=True)"
   ]
  },
  {
   "cell_type": "code",
   "execution_count": null,
   "id": "ed36612f",
   "metadata": {},
   "outputs": [],
   "source": [
    "df_merged.isnull().sum()"
   ]
  },
  {
   "cell_type": "code",
   "execution_count": null,
   "id": "62610137",
   "metadata": {},
   "outputs": [],
   "source": [
    "holiday_df['date'] = holiday_df['date'].apply(lambda x: x.replace(year=2023))"
   ]
  },
  {
   "cell_type": "code",
   "execution_count": null,
   "id": "c9636452",
   "metadata": {},
   "outputs": [],
   "source": [
    "df_merged.head(5)"
   ]
  },
  {
   "cell_type": "code",
   "execution_count": null,
   "id": "6903a4c3",
   "metadata": {},
   "outputs": [],
   "source": [
    "holiday_df.head(5)"
   ]
  },
  {
   "cell_type": "code",
   "execution_count": null,
   "id": "dc9d756c",
   "metadata": {},
   "outputs": [],
   "source": [
    "#merge with holiday\n",
    "\n",
    "df_merged = df_merged.merge(holiday_df[['date','holiday_name']], how = 'left', left_on = 'pickup_date', right_on = 'date')\n",
    "df_merged['is_holiday'] = df_merged['holiday_name'].notna().astype(int)"
   ]
  },
  {
   "cell_type": "code",
   "execution_count": null,
   "id": "29a0a802",
   "metadata": {},
   "outputs": [],
   "source": [
    "df_merged.head(5)"
   ]
  },
  {
   "cell_type": "code",
   "execution_count": null,
   "id": "ad0ce3b5",
   "metadata": {},
   "outputs": [],
   "source": [
    "df_merged[~df_merged['pickup_date'].isin(holiday_df['date'])].shape\n"
   ]
  },
  {
   "cell_type": "code",
   "execution_count": null,
   "id": "a567e9d1",
   "metadata": {},
   "outputs": [],
   "source": [
    "df_merged['holiday_name'].fillna('No Holiday', inplace=True)"
   ]
  },
  {
   "cell_type": "code",
   "execution_count": null,
   "id": "6d0faeba",
   "metadata": {},
   "outputs": [],
   "source": [
    "df_merged = df_merged.drop(columns=['date'],axis=1)"
   ]
  },
  {
   "cell_type": "code",
   "execution_count": null,
   "id": "50a792eb",
   "metadata": {},
   "outputs": [],
   "source": [
    "taxi_zone['PULocationID'] = taxi_zone['PULocationID'].astype('int64')\n",
    "df_merged = df_merged.merge(taxi_zone, how='left', on='PULocationID')\n"
   ]
  },
  {
   "cell_type": "code",
   "execution_count": null,
   "id": "35212c53",
   "metadata": {},
   "outputs": [],
   "source": [
    "df_merged.isnull().sum()"
   ]
  },
  {
   "cell_type": "code",
   "execution_count": null,
   "id": "ac27655d",
   "metadata": {},
   "outputs": [],
   "source": [
    "df_output = df_merged[[\n",
    "    'pickup_hour', 'pickup_date','PULocationID', 'zone', 'borough', 'num_trips',\n",
    "    'temp', 'humidity', 'precip', 'windgust', 'windspeed',\n",
    "    'visibility', 'conditions', 'is_holiday'\n",
    "]]"
   ]
  },
  {
   "cell_type": "code",
   "execution_count": null,
   "id": "31086b79",
   "metadata": {},
   "outputs": [],
   "source": [
    "df_output.dropna(inplace=True)"
   ]
  },
  {
   "cell_type": "code",
   "execution_count": null,
   "id": "5194595a",
   "metadata": {},
   "outputs": [],
   "source": [
    "df_output.isnull().sum()"
   ]
  },
  {
   "cell_type": "code",
   "execution_count": null,
   "id": "389df38a",
   "metadata": {},
   "outputs": [],
   "source": [
    "df_output.head(15)"
   ]
  },
  {
   "cell_type": "code",
   "execution_count": null,
   "id": "ef7fcee8",
   "metadata": {},
   "outputs": [],
   "source": [
    "df_output.drop_duplicates(inplace=True)"
   ]
  },
  {
   "cell_type": "code",
   "execution_count": null,
   "id": "27f2c610",
   "metadata": {},
   "outputs": [],
   "source": [
    "import folium\n",
    "from folium.plugins import HeatMap"
   ]
  },
  {
   "cell_type": "code",
   "execution_count": null,
   "id": "c4537b1b",
   "metadata": {},
   "outputs": [],
   "source": [
    "# Aggregate demand by zone (PULocationID)\n",
    "zone_demand = df_output.groupby(['PULocationID','zone','borough']).agg({'num_trips': 'sum'}).reset_index()\n",
    "\n",
    "# Merge with taxi_zone GeoDataFrame for geometry\n",
    "zone_geo = taxi_zone.merge(zone_demand, on='PULocationID')"
   ]
  },
  {
   "cell_type": "code",
   "execution_count": null,
   "id": "c2809077",
   "metadata": {},
   "outputs": [],
   "source": [
    "zone_geo = zone_geo.drop(columns=['zone_x','borough_y'])\n",
    "zone_geo = zone_geo.rename(columns={'zone_z': 'zone','borough_x':'borough'})"
   ]
  },
  {
   "cell_type": "code",
   "execution_count": null,
   "id": "3113a158",
   "metadata": {},
   "outputs": [],
   "source": [
    "# Convert to GeoJSON for Folium\n",
    "\n",
    "zone_geo = gpd.GeoDataFrame(zone_geo, geometry='geometry')"
   ]
  },
  {
   "cell_type": "code",
   "execution_count": null,
   "id": "cd7aef83",
   "metadata": {},
   "outputs": [],
   "source": [
    "# Create base map\n",
    "\n",
    "m = folium.Map(location=[40.7128, -74.0060], zoom_start=11)"
   ]
  },
  {
   "cell_type": "code",
   "execution_count": null,
   "id": "01b57e62",
   "metadata": {},
   "outputs": [],
   "source": [
    "# Add Choropleth for demand\n",
    "\n",
    "folium.Choropleth(\n",
    "    geo_data=zone_geo,\n",
    "    data=zone_geo,\n",
    "    columns=['PULocationID', 'num_trips'],\n",
    "    key_on='feature.properties.PULocationID',\n",
    "    fill_color='YlOrRd',\n",
    "    fill_opacity=0.7,\n",
    "    line_opacity=0.2,\n",
    "    legend_name='Total Trips'\n",
    ").add_to(m)"
   ]
  },
  {
   "cell_type": "code",
   "execution_count": null,
   "id": "ff3bdf90",
   "metadata": {},
   "outputs": [],
   "source": [
    "# Display the map\n",
    "\n",
    "m.save(\"zone_demand_heatmap.html\")"
   ]
  },
  {
   "cell_type": "code",
   "execution_count": null,
   "id": "ab89d33c",
   "metadata": {},
   "outputs": [],
   "source": [
    "zone_geo['centroid'] = zone_geo.geometry.centroid\n",
    "zone_geo['lat'] = zone_geo.centroid.y\n",
    "zone_geo['lon'] = zone_geo.centroid.x\n",
    "\n",
    "heat_data = list(zip(zone_geo['lat'],zone_geo['lon'],zone_demand['num_trips']))\n",
    "\n",
    "m = folium.Map(location=[40.7128, -74.0060], zoom_start=11)\n",
    "HeatMap(heat_data, radius=15).add_to(m)\n",
    "m.save('heatmap1.html')"
   ]
  },
  {
   "cell_type": "code",
   "execution_count": null,
   "id": "f25b116a",
   "metadata": {},
   "outputs": [],
   "source": [
    "import matplotlib.pyplot as plt\n",
    "import seaborn as sns\n",
    "\n",
    "hourly_demand = df_output.groupby('pickup_hour')['num_trips'].mean()\n",
    "\n",
    "plt.figure(figsize=(12,6))\n",
    "sns.lineplot(data=hourly_demand)\n",
    "plt.title('Average Demand by Hour of Day')\n",
    "plt.xlabel('Hour of Day')\n",
    "plt.ylabel('Average Number of Trips')\n",
    "plt.xticks(range(0,24))\n",
    "plt.show()"
   ]
  },
  {
   "cell_type": "code",
   "execution_count": null,
   "id": "828eb980",
   "metadata": {},
   "outputs": [],
   "source": [
    "df_output['weekday'] = pd.to_datetime(df_output['pickup_date']).dt.dayofweek\n",
    "df_output['is_weekend'] = df_output['weekday'].apply(lambda x: 1 if x>=5 else 0)"
   ]
  },
  {
   "cell_type": "code",
   "execution_count": null,
   "id": "9c79b690",
   "metadata": {},
   "outputs": [],
   "source": [
    "weekend_demand = df_output.groupby(['pickup_hour','is_weekend'])['num_trips'].mean().reset_index()"
   ]
  },
  {
   "cell_type": "code",
   "execution_count": null,
   "id": "6d1f3c05",
   "metadata": {},
   "outputs": [],
   "source": [
    "import matplotlib.pyplot as plt\n",
    "import seaborn as sns\n",
    "\n",
    "plt.figure(figsize=(12,6))\n",
    "\n",
    "# Create the plot with custom colors\n",
    "sns.lineplot(data=weekend_demand, x='pickup_hour', y='num_trips', hue='is_weekend', \n",
    "             palette={False: '#1f77b4', True: '#ff7f0e'})  # Blue for weekday, orange for weekend\n",
    "\n",
    "plt.title('Demand by Hour: Weekday vs Weekend')\n",
    "plt.xlabel('Hour of Day')\n",
    "plt.ylabel('Average Number of Trips')\n",
    "plt.xticks(range(0,24))\n",
    "\n",
    "# Fix the legend\n",
    "handles, labels = plt.gca().get_legend_handles_labels()\n",
    "plt.legend(handles, ['Weekday', 'Weekend'])\n",
    "\n",
    "plt.show()"
   ]
  },
  {
   "cell_type": "code",
   "execution_count": null,
   "id": "89459859",
   "metadata": {},
   "outputs": [],
   "source": [
    "rainy = df_output[df_output['precip'] > 0]\n",
    "clear = df_output[df_output['precip'] == 0]\n",
    "\n",
    "print(f\"Average demand on rainy days: {rainy['num_trips'].mean()}\")\n",
    "print(f\"Average demand on clear days: {clear['num_trips'].mean()}\")"
   ]
  },
  {
   "cell_type": "code",
   "execution_count": null,
   "id": "8697373a",
   "metadata": {},
   "outputs": [],
   "source": [
    "from sklearn.preprocessing import LabelEncoder\n",
    "import numpy as np\n",
    "\n",
    "df_model = df_output.copy()\n",
    "\n",
    "# Label encode categorical columns\n",
    "for col in ['zone','borough','conditions']:\n",
    "    le = LabelEncoder()\n",
    "    df_model[col] = le.fit_transform(df_model[col].astype(str))"
   ]
  },
  {
   "cell_type": "code",
   "execution_count": null,
   "id": "e5cb9f00",
   "metadata": {},
   "outputs": [],
   "source": [
    "df_model['day_of_week'] = pd.to_datetime(df_model['pickup_date']).dt.dayofweek"
   ]
  },
  {
   "cell_type": "code",
   "execution_count": null,
   "id": "30c5504e",
   "metadata": {},
   "outputs": [],
   "source": [
    "# Lag feature (previous hour demand per zone)\n",
    "df_model = df_model.sort_values(['PULocationID', 'pickup_date', 'pickup_hour'])\n",
    "df_model['lag_1'] = df_model.groupby('PULocationID')['num_trips'].shift(1).fillna(0)\n"
   ]
  },
  {
   "cell_type": "code",
   "execution_count": null,
   "id": "158a01d7",
   "metadata": {},
   "outputs": [],
   "source": [
    "# Target\n",
    "y = df_model['num_trips']\n",
    "X = df_model.drop(columns=['pickup_date', 'num_trips'])"
   ]
  },
  {
   "cell_type": "code",
   "execution_count": null,
   "id": "f49e4b15",
   "metadata": {},
   "outputs": [],
   "source": [
    "from sklearn.model_selection import train_test_split\n",
    "import xgboost as xgb\n",
    "from sklearn.metrics import mean_squared_error\n",
    "\n",
    "X_train, X_test, y_train, y_test = train_test_split(X, y, test_size=0.2, shuffle=False)\n",
    "\n",
    "model = xgb.XGBRegressor(\n",
    "    objective='reg:squarederror',\n",
    "    n_estimators=100,\n",
    "    learning_rate=0.1,\n",
    "    max_depth=6,\n",
    "    random_state=42\n",
    ")\n",
    "\n",
    "model.fit(X_train, y_train)\n",
    "\n",
    "y_pred = model.predict(X_test)\n",
    "\n",
    "rmse = np.sqrt(mean_squared_error(y_test, y_pred))\n",
    "print(f\"Test RMSE: {rmse}\")"
   ]
  },
  {
   "cell_type": "code",
   "execution_count": null,
   "id": "b6c37c8f",
   "metadata": {},
   "outputs": [],
   "source": [
    "df_output.to_csv(\"urban_mobility_demand_forecast.csv\", index=False)"
   ]
  }
 ],
 "metadata": {
  "kernelspec": {
   "display_name": "Python 3",
   "language": "python",
   "name": "python3"
  },
  "language_info": {
   "codemirror_mode": {
    "name": "ipython",
    "version": 3
   },
   "file_extension": ".py",
   "mimetype": "text/x-python",
   "name": "python",
   "nbconvert_exporter": "python",
   "pygments_lexer": "ipython3",
   "version": "3.12.9"
  }
 },
 "nbformat": 4,
 "nbformat_minor": 5
}
